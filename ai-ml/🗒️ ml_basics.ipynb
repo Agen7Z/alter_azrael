{
 "cells": [
  {
   "cell_type": "markdown",
   "id": "1a5bc9ba",
   "metadata": {},
   "source": [
    "# What is Machine Learning?\n",
    "## Machine learning is a method of teaching computers to learn from data without being explicitly programmed.\n",
    "\n",
    "\n",
    "### Supervised Learning\n",
    "- What is it: Learning from labeled data (input → output)\n",
    "\n",
    "- Example: Predicting house prices from size, location\n",
    "\n",
    "- Algo used: Linear Regression, Decision Trees\n",
    "\n",
    "### Unsupervised Learning\n",
    "-What is it: Finding hidden patterns in data (no labels)\n",
    "\n",
    "- Example: Grouping songs by mood without tags\n",
    "\n",
    "- Algo used: K-Means, PCA\n",
    "\n",
    "### Reinforcement Learning\n",
    "- What is it: Learning by taking actions in an environment to get rewards\n",
    "\n",
    "- Example: Teaching a robot to walk\n",
    "\n",
    "- Algo used: Q-Learning, DQN"
   ]
  },
  {
   "cell_type": "code",
   "execution_count": null,
   "id": "30c82435",
   "metadata": {},
   "outputs": [],
   "source": [
    "print(\"Day 1: Azrael learns the types of ML.\")\n"
   ]
  }
 ],
 "metadata": {
  "language_info": {
   "name": "python"
  }
 },
 "nbformat": 4,
 "nbformat_minor": 5
}
